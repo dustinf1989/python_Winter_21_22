{
 "cells": [
  {
   "cell_type": "markdown",
   "metadata": {},
   "source": [
    "# Lecture 5: Classes"
   ]
  },
  {
   "cell_type": "markdown",
   "metadata": {},
   "source": [
    "Python is an **object-oriented programming language** (OOP), which means it is based on the concept of **objects**, which can contain data, in the form of fields, also known as **attributes** or properties, and code in the form of procedures or **methods**.\n",
    "\n",
    "Learning about OOP requires knowledge of new vocabulary, which will be introduced step-by-step as you go through this notebook.\n",
    "\n",
    "Some of the examples used in this notebook were taken from this website, which also includes a glossary of terms near the bottom: http://openbookproject.net/thinkcs/python/english3e/classes_and_objects_I.html\n",
    "\n",
    "**Classes** are the most fundamental building block of Python. Understanding what classes are, when to use them, and how they can be useful are essential for many advanced programming applications.  Classes can be thought of as blueprints for creating objects.\n",
    "\n",
    "\n",
    "Python has many predefined classes that we have already learned about: lists, tuples, dictionaries, strings, sets, and numpy arrays.  Each **instance** of a class is an **object**, and the class defines methods (functions written with parentheses) and attributes that can operate on that instance, written in python as:\n",
    "\n",
    "class.method()\n",
    "\n",
    "class.attribute\n",
    "\n",
    "Python has many native class methods, here are some examples from the string class."
   ]
  },
  {
   "cell_type": "code",
   "execution_count": null,
   "metadata": {},
   "outputs": [],
   "source": [
    "s = 'where do we go next?'"
   ]
  },
  {
   "cell_type": "code",
   "execution_count": null,
   "metadata": {},
   "outputs": [],
   "source": [
    "s.upper()"
   ]
  },
  {
   "cell_type": "code",
   "execution_count": null,
   "metadata": {},
   "outputs": [],
   "source": [
    "s.replace(\"next\", \"now\")"
   ]
  },
  {
   "cell_type": "markdown",
   "metadata": {},
   "source": [
    "I'm glad you asked! Now we will make our first class, with a docstring, attribute and method:"
   ]
  },
  {
   "cell_type": "code",
   "execution_count": null,
   "metadata": {},
   "outputs": [],
   "source": [
    "class MyClass:\n",
    "    \"\"\"A simple example class\n",
    "    You can even make longer messages\"\"\"\n",
    "    i = 1245\n",
    "    def f(self):\n",
    "        return \"hello from the inside\""
   ]
  },
  {
   "cell_type": "markdown",
   "metadata": {},
   "source": [
    "Notice that there is a header that begins with the keyword **class**, followed by the name of the class, and ending with a colon (:).  Indentation alway tells us where the class ends.  The docstring is surrounded by three quotations marks."
   ]
  },
  {
   "cell_type": "code",
   "execution_count": null,
   "metadata": {},
   "outputs": [],
   "source": [
    "m = MyClass()"
   ]
  },
  {
   "cell_type": "markdown",
   "metadata": {},
   "source": [
    "m will become and **instance** of MyClass"
   ]
  },
  {
   "cell_type": "code",
   "execution_count": null,
   "metadata": {},
   "outputs": [],
   "source": [
    "m.__doc__ # Show the documentation of MyClass\n",
    "# m?"
   ]
  },
  {
   "cell_type": "code",
   "execution_count": null,
   "metadata": {},
   "outputs": [],
   "source": [
    "m.i # attributes are called without parentheses"
   ]
  },
  {
   "cell_type": "code",
   "execution_count": null,
   "metadata": {},
   "outputs": [],
   "source": [
    "m.f() # functions are called with parentheses"
   ]
  },
  {
   "cell_type": "markdown",
   "metadata": {},
   "source": [
    "Like function definitions using 'def', classes are defined with 'class'.  Classes are a logical grouping of data and functions (known as methods when in classes).  Classes help us organize code and data by defining logical connections between things we are analyzing."
   ]
  },
  {
   "cell_type": "markdown",
   "metadata": {},
   "source": [
    "# Self"
   ]
  },
  {
   "cell_type": "markdown",
   "metadata": {},
   "source": [
    "One special thing about methods is that the instance object is passed as the first argument of the function, and here it is denoted as **self**. The **self** parameter is automatically set to reference the newly created object that needs to be initialized.  In our example, the call m.f() is exactly equivalent to MyClass.f(m)."
   ]
  },
  {
   "cell_type": "code",
   "execution_count": null,
   "metadata": {},
   "outputs": [],
   "source": [
    "MyClass.f(m)"
   ]
  },
  {
   "cell_type": "code",
   "execution_count": null,
   "metadata": {},
   "outputs": [],
   "source": [
    "m.f() # m is the instance, referred to as self when we call the function f()"
   ]
  },
  {
   "cell_type": "markdown",
   "metadata": {},
   "source": [
    "# <verbatim>\\_\\_init\\_\\_</verbatim>()"
   ]
  },
  {
   "cell_type": "markdown",
   "metadata": {},
   "source": [
    "When __initializing__ a new instance, it can be useful to has specific initial conditions.  This can be done with a special **initializer** method named <verbatim>\\_\\_init\\_\\_</verbatim>() :"
   ]
  },
  {
   "cell_type": "code",
   "execution_count": null,
   "metadata": {},
   "outputs": [],
   "source": [
    "class Complex:\n",
    "    def __init__(self, real, imag):\n",
    "        self.r = real\n",
    "        self.i = imag\n",
    "\n",
    "x = Complex(2.0, -6)\n",
    "x.r, x.i"
   ]
  },
  {
   "cell_type": "markdown",
   "metadata": {},
   "source": [
    "The <verbatim>\\_\\_init\\_\\_</verbatim>() method may have arguments for greater flexibility, and these arguments must be given to the class instantiation operator.  The initializer method is automatically called whenever a new instance of Complex is created.\n",
    "\n",
    "Every class should have a method with the special name <verbatim>\\_\\_init\\_\\_</verbatim>(). It gives you the chance to set up attributes needed for every new instance by giving them inital values.\n",
    "\n",
    "Now, let's create a **Point** class."
   ]
  },
  {
   "cell_type": "code",
   "execution_count": null,
   "metadata": {},
   "outputs": [],
   "source": [
    "class Point:\n",
    "    \"\"\" Point class represents and manipulates x,y coords. \"\"\"\n",
    "\n",
    "    def __init__(self):\n",
    "        \"\"\" Create a new point at the origin \"\"\"\n",
    "        self.x = 0\n",
    "        self.y = 0"
   ]
  },
  {
   "cell_type": "markdown",
   "metadata": {},
   "source": [
    "Now let's use our Point class."
   ]
  },
  {
   "cell_type": "code",
   "execution_count": null,
   "metadata": {},
   "outputs": [],
   "source": [
    "p = Point()         # Instantiate an object of type Point\n",
    "q = Point()         # Make a second point\n",
    "\n",
    "print(p.x, p.y, q.x, q.y)  # Each point object has its own x and y"
   ]
  },
  {
   "cell_type": "markdown",
   "metadata": {},
   "source": [
    "During the initialization, we crated two attributes, x and y, for each object, p and q, and gave them both the value of 0.\n",
    "\n",
    "A function like Point that creates a new object is called a **constructor**, and every class automatically provides a constructor function which is named the same as the class."
   ]
  },
  {
   "cell_type": "markdown",
   "metadata": {},
   "source": [
    "**Factory metaphor:** It can be useful to think of a class as a factory for making objects.  The class itself isn't an instance of a point, but it contains the machinery to make point instances.  Every time we call the constructor, we're telling the factory to make us a new object.  When the object is being made, its initialization method is executed to get the object properly set up with its factory default settings.\n",
    "\n",
    "**Instantiation** is the combined process of \"make a new object\" and set up its default factory settings."
   ]
  },
  {
   "cell_type": "markdown",
   "metadata": {},
   "source": [
    "Like real-world objects, object instances have both attributes and methods.  We can modify the attributes in an instance using dot notation."
   ]
  },
  {
   "cell_type": "code",
   "execution_count": null,
   "metadata": {},
   "outputs": [],
   "source": [
    "p.x = 3\n",
    "p.y = 4"
   ]
  },
  {
   "cell_type": "code",
   "execution_count": null,
   "metadata": {},
   "outputs": [],
   "source": [
    "print(p.x, p.y, q.x, q.y)"
   ]
  },
  {
   "cell_type": "markdown",
   "metadata": {},
   "source": [
    "Instead of changing the attributes after creating each instance, we can add them to the <verbatim>\\_\\_init\\_\\_</verbatim>() method:"
   ]
  },
  {
   "cell_type": "code",
   "execution_count": null,
   "metadata": {},
   "outputs": [],
   "source": [
    "class Point:\n",
    "    \"\"\" Point class represents and manipulates x,y coords. \"\"\"\n",
    "\n",
    "    def __init__(self, x=0, y=0):\n",
    "        \"\"\" Create a new point at x, y \"\"\"\n",
    "        self.x = x\n",
    "        self.y = y"
   ]
  },
  {
   "cell_type": "markdown",
   "metadata": {},
   "source": [
    "The x and y parameters are both optional.  If the caller does not supply arguments, they'll get the default values of 0.  Here is our improved class in action:"
   ]
  },
  {
   "cell_type": "code",
   "execution_count": null,
   "metadata": {},
   "outputs": [],
   "source": [
    "p = Point(5, 2)\n",
    "q = Point(3, 4)\n",
    "r = Point()\n",
    "print(p.x, q.x, r.x)"
   ]
  },
  {
   "cell_type": "markdown",
   "metadata": {},
   "source": [
    "# Adding methods to classes"
   ]
  },
  {
   "cell_type": "markdown",
   "metadata": {},
   "source": [
    "The key advantage of using a class like Point rather than a simple tuple is so that you can add specific methods to your class that might not be appropriate for all tuples, that instead might represent a date.\n",
    "\n",
    "Creating classes allows you to organize both your code and your thinking better.\n",
    "\n",
    "A **method** behaves like a function that is invoked on a specific instance.  Below we add the method, **distance_from_origin** to understand better how the work."
   ]
  },
  {
   "cell_type": "code",
   "execution_count": null,
   "metadata": {},
   "outputs": [],
   "source": [
    "class Point:\n",
    "    \"\"\" Create a new Point, at coordinates x, y \"\"\"\n",
    "\n",
    "    def __init__(self, x=0, y=0):\n",
    "        \"\"\" Create a new point at x, y \"\"\"\n",
    "        self.x = x\n",
    "        self.y = y\n",
    "\n",
    "    def distance_from_origin(self):\n",
    "        \"\"\" Compute my distance from the origin \"\"\"\n",
    "        return ((self.x ** 2) + (self.y ** 2)) ** 0.5"
   ]
  },
  {
   "cell_type": "markdown",
   "metadata": {},
   "source": [
    "Since we modified the class, we need to recreate our old instances so they have the new method."
   ]
  },
  {
   "cell_type": "code",
   "execution_count": null,
   "metadata": {},
   "outputs": [],
   "source": [
    "p = Point(5, 2)\n",
    "q = Point(3, 4)\n",
    "r = Point()"
   ]
  },
  {
   "cell_type": "code",
   "execution_count": null,
   "metadata": {},
   "outputs": [],
   "source": [
    "p.distance_from_origin()"
   ]
  },
  {
   "cell_type": "code",
   "execution_count": null,
   "metadata": {},
   "outputs": [],
   "source": [
    "q.distance_from_origin()"
   ]
  },
  {
   "cell_type": "code",
   "execution_count": null,
   "metadata": {},
   "outputs": [],
   "source": [
    "r.distance_from_origin()"
   ]
  },
  {
   "cell_type": "markdown",
   "metadata": {},
   "source": [
    "Note that we do not need to specify self when calling the function, this is done automatically."
   ]
  },
  {
   "cell_type": "markdown",
   "metadata": {},
   "source": [
    "# Converting an instance to a string"
   ]
  },
  {
   "cell_type": "markdown",
   "metadata": {},
   "source": [
    "Let's see what our Point looks like"
   ]
  },
  {
   "cell_type": "code",
   "execution_count": null,
   "metadata": {},
   "outputs": [],
   "source": [
    "print(p)"
   ]
  },
  {
   "cell_type": "markdown",
   "metadata": {},
   "source": [
    "This doesn't really give us anything useful, but let's take control of the print function.\n",
    "\n",
    "You can add a method to a class that will use the keyword print by naming the function <verbatim>\\_\\_str\\_\\_</verbatim>."
   ]
  },
  {
   "cell_type": "code",
   "execution_count": null,
   "metadata": {},
   "outputs": [],
   "source": [
    "class Point:\n",
    "    \"\"\" Create a new Point, at coordinates x, y \"\"\"\n",
    "\n",
    "    def __init__(self, x=0, y=0):\n",
    "        \"\"\" Create a new point at x, y \"\"\"\n",
    "        self.x = x\n",
    "        self.y = y\n",
    "        \n",
    "    def __str__(self):    # All we have done is rename the method\n",
    "        return \"Point at ({0}, {1})\".format(self.x, self.y)\n",
    "\n",
    "    def distance_from_origin(self):\n",
    "        \"\"\" Compute my distance from the origin \"\"\"\n",
    "        return ((self.x ** 2) + (self.y ** 2)) ** 0.5"
   ]
  },
  {
   "cell_type": "code",
   "execution_count": null,
   "metadata": {},
   "outputs": [],
   "source": [
    "w = Point(2,4)\n",
    "print(w)"
   ]
  },
  {
   "cell_type": "markdown",
   "metadata": {},
   "source": [
    "The double underscores before and after methods signify \"magic methods.\"  <verbatim>\\_\\_init\\_\\_</verbatim>() was the first one, and now we see <verbatim>\\_\\_str\\_\\_</verbatim>(), which is used anytime you want to use the print keyword.  We will make use of magic methods in the rest of the notebook, and you can find a list of them here:\n",
    "\n",
    "https://www.python-course.eu/python3_magic_methods.php"
   ]
  },
  {
   "cell_type": "markdown",
   "metadata": {},
   "source": [
    "# Exercise 1"
   ]
  },
  {
   "cell_type": "markdown",
   "metadata": {},
   "source": [
    "Add a method reflect_x() to Point which returns a new Point that is reflected about the x-axis.  Point(4,6).reflect_x() is (4, -6) "
   ]
  },
  {
   "cell_type": "code",
   "execution_count": null,
   "metadata": {},
   "outputs": [],
   "source": [
    "class Point:\n",
    "    \"\"\" Create a new Point, at coordinates x, y \"\"\"\n",
    "\n",
    "    def __init__(self, x=0, y=0):\n",
    "        \"\"\" Create a new point at x, y \"\"\"\n",
    "        self.x = x\n",
    "        self.y = y\n",
    "        \n",
    "    def __str__(self):    # All we have done is rename the method\n",
    "        return \"Point at ({0}, {1})\".format(self.x, self.y)\n",
    "\n",
    "    def distance_from_origin(self):\n",
    "        \"\"\" Compute my distance from the origin \"\"\"\n",
    "        return ((self.x ** 2) + (self.y ** 2)) ** 0.5\n",
    "    \n",
    "    # Add your new method here"
   ]
  },
  {
   "cell_type": "code",
   "execution_count": null,
   "metadata": {},
   "outputs": [],
   "source": [
    "# This cell should return \"Point at (4, -6)\"\n",
    "w = Point(4, 6).reflect_x()\n",
    "print(w)"
   ]
  },
  {
   "cell_type": "markdown",
   "metadata": {},
   "source": [
    "# Magic methods for using the + sign"
   ]
  },
  {
   "cell_type": "markdown",
   "metadata": {},
   "source": [
    "In this example, we will use another magic method that takes control of the addition (+) sign."
   ]
  },
  {
   "cell_type": "code",
   "execution_count": null,
   "metadata": {},
   "outputs": [],
   "source": [
    "class person:\n",
    "    def __init__(self, name, age, sex):\n",
    "        self.name = name\n",
    "        self.age = age\n",
    "        if sex == (\"boy\" or \"girl\"):\n",
    "            self.sex = sex\n",
    "        else:\n",
    "            print(\"Must be a boy or girl\")\n",
    "        \n",
    "    def __str__(self):\n",
    "        if self.age < 18:\n",
    "            return \"{} is a {} year old {}\".format(self.name, self.age, self.sex)\n",
    "        else:\n",
    "            sex_dict = {\"boy\" : \"man\", \"girl\" : \"woman\"}\n",
    "            self.sex = sex_dict[self.sex]\n",
    "            return \"{} is a {} year old {}\".format(self.name, self.age, self.sex)\n",
    "        \n",
    "    def __add__(self, years):\n",
    "        self.age += years"
   ]
  },
  {
   "cell_type": "code",
   "execution_count": null,
   "metadata": {},
   "outputs": [],
   "source": [
    "jim = person(\"Jim\",1,\"boy\")"
   ]
  },
  {
   "cell_type": "code",
   "execution_count": null,
   "metadata": {},
   "outputs": [],
   "source": [
    "print(jim)"
   ]
  },
  {
   "cell_type": "code",
   "execution_count": null,
   "metadata": {},
   "outputs": [],
   "source": [
    "jim+17"
   ]
  },
  {
   "cell_type": "code",
   "execution_count": null,
   "metadata": {},
   "outputs": [],
   "source": [
    "print(jim)"
   ]
  },
  {
   "cell_type": "markdown",
   "metadata": {},
   "source": [
    "# Class and Instance Variables"
   ]
  },
  {
   "cell_type": "markdown",
   "metadata": {},
   "source": [
    "Instance variables: Data unique to each instance\n",
    "\n",
    "Class variables: Attributes and methods shared by all instances of the class"
   ]
  },
  {
   "cell_type": "code",
   "execution_count": null,
   "metadata": {},
   "outputs": [],
   "source": [
    "class Dog:\n",
    "    # Class variable shared by all instances\n",
    "    kind = 'canine'     \n",
    "    \n",
    "    def __init__(self, name, age):\n",
    "        # Instances variable unique to each instance\n",
    "        self.name = name \n",
    "        self.age = age"
   ]
  },
  {
   "cell_type": "code",
   "execution_count": null,
   "metadata": {},
   "outputs": [],
   "source": [
    "d = Dog('Kaiser', 11)\n",
    "e = Dog('Conan', 2)"
   ]
  },
  {
   "cell_type": "code",
   "execution_count": null,
   "metadata": {},
   "outputs": [],
   "source": [
    "d.kind"
   ]
  },
  {
   "cell_type": "code",
   "execution_count": null,
   "metadata": {},
   "outputs": [],
   "source": [
    "e.kind"
   ]
  },
  {
   "cell_type": "code",
   "execution_count": null,
   "metadata": {},
   "outputs": [],
   "source": [
    "d.name, d.age"
   ]
  },
  {
   "cell_type": "code",
   "execution_count": null,
   "metadata": {},
   "outputs": [],
   "source": [
    "e.name, e.age"
   ]
  },
  {
   "cell_type": "markdown",
   "metadata": {},
   "source": [
    "# Exercise 2"
   ]
  },
  {
   "cell_type": "markdown",
   "metadata": {},
   "source": [
    "Now imagine that we try to teach both of our dogs 2 tricks, to shake and to roll over.  Unfortunately, only Conan learns how to do them but Kaiser doesn't."
   ]
  },
  {
   "cell_type": "code",
   "execution_count": null,
   "metadata": {},
   "outputs": [],
   "source": [
    "class Dog:\n",
    "    # Class variable shared by all instances\n",
    "    kind = 'canine'  \n",
    "    tricks = []\n",
    "    \n",
    "    def __init__(self, name, age):\n",
    "        # Instances variable unique to each instance\n",
    "        self.name = name \n",
    "        self.age = age\n",
    "        \n",
    "    def add_trick(self, trick):\n",
    "        self.tricks.append(trick)\n",
    "    \n",
    "k = Dog('Kaiser', 11)\n",
    "c = Dog('Conan', 2)\n",
    "c.add_trick('roll over')\n",
    "c.add_trick('play dead')\n",
    "print( k.tricks, c.tricks )"
   ]
  },
  {
   "cell_type": "markdown",
   "metadata": {},
   "source": [
    "But when we run this code, it seems that Kaiser has learned the tricks?! What can we do to fix this code?"
   ]
  },
  {
   "cell_type": "markdown",
   "metadata": {},
   "source": [
    "# Inheritence"
   ]
  },
  {
   "cell_type": "markdown",
   "metadata": {},
   "source": [
    "Inheritence (also known as subclassing) allows classes to share the same attributes and methods from a parent or superclass.  Inheritence is done by writing Child(Parent) where the child (subclass) will inherit from its parent (superclass)"
   ]
  },
  {
   "cell_type": "code",
   "execution_count": null,
   "metadata": {},
   "outputs": [],
   "source": [
    "class Animal:\n",
    "    legs = 0\n",
    "    \n",
    "    def __init__(self, name):\n",
    "        self.name = name\n",
    "        \n",
    "class Dog(Animal):\n",
    "    legs = 4\n",
    "        \n",
    "    def sound(self):\n",
    "        return \"wuf wuf\"\n",
    "        \n",
    "Snow = Dog(\"Snow\")\n",
    "print(Snow.sound(), Snow.legs, Snow.name)"
   ]
  },
  {
   "cell_type": "markdown",
   "metadata": {},
   "source": [
    "# Exercise 3"
   ]
  },
  {
   "cell_type": "markdown",
   "metadata": {},
   "source": [
    "Now imagine that you are creating a group of animals and you want to have a duck, cat and monkey.  Create a new subclass for each animal type and then create your own instance of each animal that makes a sound."
   ]
  },
  {
   "cell_type": "code",
   "execution_count": null,
   "metadata": {},
   "outputs": [],
   "source": [
    "class Animal:\n",
    "    legs = 0\n",
    "    \n",
    "    def __init__(self, name):\n",
    "        self.name = name\n",
    "        \n",
    "class Dog(Animal):\n",
    "    legs = 4\n",
    "    def sound(self):\n",
    "        return \"wuf wuf\"\n",
    "    \n",
    "    "
   ]
  },
  {
   "cell_type": "markdown",
   "metadata": {},
   "source": [
    "# Exercise 4"
   ]
  },
  {
   "cell_type": "markdown",
   "metadata": {},
   "source": [
    "The final exercise is a multi-step problem, that requires you to combine much of what you've learned throughout this notebook.  Let's try to define a Vector class for 3-dimensional vectors (x,y,z)"
   ]
  },
  {
   "cell_type": "code",
   "execution_count": null,
   "metadata": {},
   "outputs": [],
   "source": [
    "class Vector:\n",
    "    def __init__(self, x=0, y=0,z=0):\n",
    "        self.x = x\n",
    "        self.y = y\n",
    "        self.z = z\n",
    "    def __str__(self):\n",
    "        return 'Vector ({0:.2f}, {1:.2f}, {2:.2f})'.format(self.x,self.y,self.z)"
   ]
  },
  {
   "cell_type": "markdown",
   "metadata": {},
   "source": [
    "Here we use the magic method <verbatim>\\_\\_str\\_\\_</verbatim> , which returns a representation of the object"
   ]
  },
  {
   "cell_type": "code",
   "execution_count": null,
   "metadata": {},
   "outputs": [],
   "source": [
    "v1 = Vector(2,7,4)\n",
    "v2 = Vector(6,3,1)"
   ]
  },
  {
   "cell_type": "code",
   "execution_count": null,
   "metadata": {},
   "outputs": [],
   "source": [
    "print(v1)"
   ]
  },
  {
   "cell_type": "code",
   "execution_count": null,
   "metadata": {},
   "outputs": [],
   "source": [
    "print(v1+v2)"
   ]
  },
  {
   "cell_type": "markdown",
   "metadata": {},
   "source": [
    "## Exercise 4 a\n",
    "How could we add a method to our class to make this work? We already used the appropriate magic method in a previous example."
   ]
  },
  {
   "cell_type": "code",
   "execution_count": null,
   "metadata": {},
   "outputs": [],
   "source": [
    "class Vector:\n",
    "    def __init__(self, x=0, y=0,z=0):\n",
    "        self.x = x\n",
    "        self.y = y\n",
    "        self.z = z\n",
    "    def __str__(self):\n",
    "        return 'Vector ({0:.2f}, {1:.2f}, {2:.2f})'.format(self.x,self.y,self.z)\n",
    "    # Add your new method here"
   ]
  },
  {
   "cell_type": "code",
   "execution_count": null,
   "metadata": {},
   "outputs": [],
   "source": [
    "v1 = Vector(2,7,4)\n",
    "v2 = Vector(6,3,1)\n",
    "print(v1+v2) # Should output Vector (8.00, 10.00, 5.00)"
   ]
  },
  {
   "cell_type": "markdown",
   "metadata": {},
   "source": [
    "## Exercise 4 b\n",
    "Now define the cross product of two vectors, using the magic method for the multiplication sign (*) named <verbatim>\\_\\_mul\\_\\_</verbatim>.\n",
    "\n",
    "The cross product is given by this forumula:"
   ]
  },
  {
   "cell_type": "markdown",
   "metadata": {},
   "source": [
    "$$\n",
    "\\begin{pmatrix} x_1\\\\x_2\\\\x_3\\end{pmatrix} \\times \\begin{pmatrix} y_1\\\\y_2\\\\y_3\\end{pmatrix}=\n",
    "\\begin{pmatrix} \n",
    "x_2 y_3 - x_3 y_2\\\\\n",
    "x_3 y_1 - x_1 y_3\\\\\n",
    "x_1 y_2 - x_2 y_1\n",
    "\\end{pmatrix}\n",
    "$$"
   ]
  },
  {
   "cell_type": "code",
   "execution_count": null,
   "metadata": {},
   "outputs": [],
   "source": [
    "class Vector:\n",
    "    def __init__(self, x=0, y=0,z=0):\n",
    "        self.x = x\n",
    "        self.y = y\n",
    "        self.z = z\n",
    "    def __str__(self):\n",
    "        return 'Vector ({0:.2f}, {1:.2f}, {2:.2f})'.format(self.x,self.y,self.z)\n",
    "    # Add your new method here"
   ]
  },
  {
   "cell_type": "code",
   "execution_count": null,
   "metadata": {},
   "outputs": [],
   "source": [
    "v1 = Vector(2,7,4)\n",
    "v2 = Vector(6,3,1)\n",
    "print(v1*v2) # Should return Vector (5.00, 22.00, -36.00)"
   ]
  },
  {
   "cell_type": "markdown",
   "metadata": {},
   "source": [
    "## Exercise 4 c\n",
    "Compute the length of a vector as (call your method \"norm\", this is NOT a magic method)"
   ]
  },
  {
   "cell_type": "markdown",
   "metadata": {},
   "source": [
    "$$\\left|\\left| \\begin{pmatrix} x\\\\y\\\\ z\\\\\\end{pmatrix} \\right| \\right| = \\sqrt{x^2+y^2 + z^2} $$"
   ]
  },
  {
   "cell_type": "code",
   "execution_count": null,
   "metadata": {},
   "outputs": [],
   "source": [
    "class Vector:\n",
    "    def __init__(self, x=0, y=0,z=0):\n",
    "        self.x = x\n",
    "        self.y = y\n",
    "        self.z = z\n",
    "    def __str__(self):\n",
    "        return 'Vector ({0:.2f}, {1:.2f}, {2:.2f})'.format(self.x,self.y,self.z)\n",
    "    # Add your new method here"
   ]
  },
  {
   "cell_type": "code",
   "execution_count": null,
   "metadata": {},
   "outputs": [],
   "source": [
    "v1 = Vector(2,10,1)\n",
    "v2 = Vector(5,-2,-1)\n",
    "v3 = Vector(5,2,1)\n",
    "print(v1.norm(), v2.norm(), v3.norm()) \n",
    "# should return 10.246950765959598 5.477225575051661 5.477225575051661"
   ]
  },
  {
   "cell_type": "markdown",
   "metadata": {},
   "source": [
    "## Exercise 4 d\n",
    "Which vector has the largest norm? Use <verbatim>\\_\\_gt\\_\\_()</verbatim> to implement a comparision of the norms"
   ]
  },
  {
   "cell_type": "code",
   "execution_count": null,
   "metadata": {},
   "outputs": [],
   "source": [
    "class Vector:\n",
    "    def __init__(self, x=0, y=0,z=0):\n",
    "        self.x = x\n",
    "        self.y = y\n",
    "        self.z = z\n",
    "    def __str__(self):\n",
    "        return 'Vector ({0:.2f}, {1:.2f}, {2:.2f})'.format(self.x,self.y,self.z)\n",
    "    # Add your new method here"
   ]
  },
  {
   "cell_type": "code",
   "execution_count": null,
   "metadata": {},
   "outputs": [],
   "source": [
    "v1 = Vector(2,10,1)\n",
    "v2 = Vector(5,-2,-1)\n",
    "v3= Vector(5,2,1)\n",
    "print(v1.norm(), v2.norm())\n",
    "v1 > v2\n",
    "# Should return 10.246950765959598 5.477225575051661 and True"
   ]
  },
  {
   "cell_type": "markdown",
   "metadata": {},
   "source": [
    "# Closing Remarks"
   ]
  },
  {
   "cell_type": "markdown",
   "metadata": {},
   "source": [
    "This final exercise requires you to make extensive use of class methods and use some new magic methods on your own.  The Vector class that you programmed is a nice exercise, but for real programming, we will use NumPy since its developers have already implemented an extensive library of methods.\n",
    "\n",
    "The exercises in this notebook were designed to introduce you to **Object-Oriented Programming**.  This is a powerful way to design and reuse code, and when used properly, it can not only help your better organize your code, but it can also help you organize the way you think about code and how you develop it in the future."
   ]
  },
  {
   "cell_type": "code",
   "execution_count": null,
   "metadata": {},
   "outputs": [],
   "source": []
  }
 ],
 "metadata": {
  "kernelspec": {
   "display_name": "Python 3",
   "language": "python",
   "name": "python3"
  },
  "language_info": {
   "codemirror_mode": {
    "name": "ipython",
    "version": 2
   },
   "file_extension": ".py",
   "mimetype": "text/x-python",
   "name": "python",
   "nbconvert_exporter": "python",
   "pygments_lexer": "ipython2",
   "version": "2.7.18"
  }
 },
 "nbformat": 4,
 "nbformat_minor": 2
}
