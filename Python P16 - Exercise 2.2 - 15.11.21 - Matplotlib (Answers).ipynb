{
 "cells": [
  {
   "cell_type": "markdown",
   "metadata": {},
   "source": [
    "# Exercise 2.2. Matplotlib\n",
    "\n",
    "Thank you very much to Dr. Nick Del Grosso for designing this exercise set."
   ]
  },
  {
   "cell_type": "code",
   "execution_count": 2,
   "metadata": {},
   "outputs": [],
   "source": [
    "%matplotlib inline"
   ]
  },
  {
   "cell_type": "code",
   "execution_count": 3,
   "metadata": {},
   "outputs": [],
   "source": [
    "import os\n",
    "from os import path\n",
    "from glob import glob\n",
    "import numpy as np\n",
    "import matplotlib.pyplot as plt\n",
    "import pandas as pd"
   ]
  },
  {
   "cell_type": "markdown",
   "metadata": {},
   "source": [
    "# Set Paths"
   ]
  },
  {
   "cell_type": "code",
   "execution_count": 4,
   "metadata": {},
   "outputs": [
    {
     "name": "stdout",
     "output_type": "stream",
     "text": [
      "[Errno 17] File exists: 'matplotlib_data'\n"
     ]
    },
    {
     "data": {
      "text/plain": [
       "['reaction_time.txt',\n",
       " 'trialnum.txt',\n",
       " 'stimcolor.txt',\n",
       " 'respcolor.txt',\n",
       " 'stimword.txt',\n",
       " 'subject.txt']"
      ]
     },
     "execution_count": 4,
     "metadata": {},
     "output_type": "execute_result"
    }
   ],
   "source": [
    "data_dir = path.join(\"matplotlib_data\")\n",
    "try:\n",
    "    os.makedirs(data_dir)\n",
    "except OSError as err:\n",
    "    print(err)\n",
    "\n",
    "data_filename = 'StroopData.csv'\n",
    "os.listdir(data_dir)"
   ]
  },
  {
   "cell_type": "markdown",
   "metadata": {},
   "source": [
    "# Load Each Data File into NumPy Arrays\n",
    "\n",
    "These files are found inside the \"Homework 3\" Directory:\n",
    "  - 'subject.txt': subject numbers\n",
    "  - 'trialnum.txt', trial number for a given session\n",
    "  - 'stimword.txt', what the stimulus word said (i.e. \"YELLOW\")\n",
    "  - 'stimcolor.txt': what color the stimulus was (this is what the subject was asked to report)\n",
    "  - 'respcolor.txt',: what color the subject reported.  \n",
    "  - 'reaction_time.txt': response time (msecs)\n",
    "  \n",
    "Please use the numpy.loadtxt() function to load these files.  \n",
    "\n",
    "Note: for files containing strings, you'll need to set the dtype to **str** in the loadtxt function."
   ]
  },
  {
   "cell_type": "code",
   "execution_count": 5,
   "metadata": {},
   "outputs": [
    {
     "data": {
      "text/plain": [
       "['matplotlib_data/reaction_time.txt',\n",
       " 'matplotlib_data/trialnum.txt',\n",
       " 'matplotlib_data/stimcolor.txt',\n",
       " 'matplotlib_data/respcolor.txt',\n",
       " 'matplotlib_data/stimword.txt',\n",
       " 'matplotlib_data/subject.txt']"
      ]
     },
     "execution_count": 5,
     "metadata": {},
     "output_type": "execute_result"
    }
   ],
   "source": [
    "filenames = glob(path.join(data_dir, \"*txt\"))\n",
    "for filename in filenames:\n",
    "    try:\n",
    "        data = np.loadtxt(filename)\n",
    "    except ValueError:\n",
    "        data = np.loadtxt(filename, dtype=str)\n",
    "        \n",
    "    globals()[path.splitext(path.basename(filename))[0]] = data\n",
    "\n",
    "subjects = np.loadtxt(path.join(data_dir, 'subject.txt'))\n",
    "resptime = reaction_time\n",
    "filenames"
   ]
  },
  {
   "cell_type": "code",
   "execution_count": 6,
   "metadata": {},
   "outputs": [
    {
     "name": "stdout",
     "output_type": "stream",
     "text": [
      "Variable        Type        Data/Info\n",
      "-------------------------------------\n",
      "data            ndarray     2803: 2803 elems, type `float64`, 22424 bytes\n",
      "data_dir        str         matplotlib_data\n",
      "data_filename   str         StroopData.csv\n",
      "err             OSError     [Errno 17] File exists: 'matplotlib_data'\n",
      "filename        str         matplotlib_data/subject.txt\n",
      "filenames       list        n=6\n",
      "glob            function    <function glob at 0x7f6d57f46ed0>\n",
      "np              module      <module 'numpy' from '/ho<...>ages/numpy/__init__.pyc'>\n",
      "os              module      <module 'os' from '/home/<...>a2/lib/python2.7/os.pyc'>\n",
      "path            module      <module 'posixpath' from <...>python2.7/posixpath.pyc'>\n",
      "pd              module      <module 'pandas' from '/h<...>ges/pandas/__init__.pyc'>\n",
      "plt             module      <module 'matplotlib.pyplo<...>s/matplotlib/pyplot.pyc'>\n",
      "reaction_time   ndarray     2803: 2803 elems, type `float64`, 22424 bytes\n",
      "respcolor       ndarray     2803: 2803 elems, type `|S1`, 2803 bytes\n",
      "resptime        ndarray     2803: 2803 elems, type `float64`, 22424 bytes\n",
      "stimcolor       ndarray     2803: 2803 elems, type `|S1`, 2803 bytes\n",
      "stimword        ndarray     2803: 2803 elems, type `|S1`, 2803 bytes\n",
      "subject         ndarray     2803: 2803 elems, type `float64`, 22424 bytes\n",
      "subjects        ndarray     2803: 2803 elems, type `float64`, 22424 bytes\n",
      "trialnum        ndarray     2803: 2803 elems, type `float64`, 22424 bytes\n"
     ]
    }
   ],
   "source": [
    "%whos"
   ]
  },
  {
   "cell_type": "markdown",
   "metadata": {},
   "source": [
    "## How Many Trials were there in total across all subjects?"
   ]
  },
  {
   "cell_type": "code",
   "execution_count": 7,
   "metadata": {},
   "outputs": [
    {
     "data": {
      "text/plain": [
       "2803"
      ]
     },
     "execution_count": 7,
     "metadata": {},
     "output_type": "execute_result"
    }
   ],
   "source": [
    "len(subject)"
   ]
  },
  {
   "cell_type": "markdown",
   "metadata": {},
   "source": [
    "## How Many Unique Subject IDs were there in this study?"
   ]
  },
  {
   "cell_type": "code",
   "execution_count": 8,
   "metadata": {},
   "outputs": [
    {
     "data": {
      "text/plain": [
       "32"
      ]
     },
     "execution_count": 8,
     "metadata": {},
     "output_type": "execute_result"
    }
   ],
   "source": [
    "len(np.unique(subject))"
   ]
  },
  {
   "cell_type": "markdown",
   "metadata": {},
   "source": [
    "## What is the mean response time, across all subjects and conditions?"
   ]
  },
  {
   "cell_type": "markdown",
   "metadata": {},
   "source": [
    "np.mean(resptime)"
   ]
  },
  {
   "cell_type": "markdown",
   "metadata": {},
   "source": [
    "## Max trials any subject did"
   ]
  },
  {
   "cell_type": "code",
   "execution_count": 9,
   "metadata": {},
   "outputs": [
    {
     "data": {
      "text/plain": [
       "90.0"
      ]
     },
     "execution_count": 9,
     "metadata": {},
     "output_type": "execute_result"
    }
   ],
   "source": [
    "np.max(trialnum)"
   ]
  },
  {
   "cell_type": "markdown",
   "metadata": {},
   "source": [
    "unique subjects = [a, b, ...]\n",
    "for subj in unique subjects:\n",
    "\n",
    "{ }"
   ]
  },
  {
   "cell_type": "code",
   "execution_count": 11,
   "metadata": {},
   "outputs": [
    {
     "data": {
      "text/plain": [
       "array([156772., 156772., 156772., ..., 156879., 156879., 156879.])"
      ]
     },
     "execution_count": 11,
     "metadata": {},
     "output_type": "execute_result"
    }
   ],
   "source": [
    "subjects"
   ]
  },
  {
   "cell_type": "markdown",
   "metadata": {},
   "source": [
    "## Plot a histogram of the response times\n",
    "(Don't forget to make sure that **%matplotlib inline** has been run already in this notebook, or the plot may not show up!)"
   ]
  },
  {
   "cell_type": "code",
   "execution_count": 12,
   "metadata": {},
   "outputs": [
    {
     "data": {
      "image/png": "[encoded data removed]",
      "text/plain": [
       "<Figure size 432x288 with 1 Axes>"
      ]
     },
     "metadata": {
      "needs_background": "light"
     },
     "output_type": "display_data"
    }
   ],
   "source": [
    "_ = plt.hist(resptime, bins=40)"
   ]
  },
  {
   "cell_type": "markdown",
   "metadata": {},
   "source": [
    "## Transform the Response Times\n",
    "\n",
    "You should see that the responses are not normally distributed (if you can't see this, try using a higher number of **bins** in your histogram function).  While this isn't really a problem, it's very convenient when you have normally-distributed data.  Let's try transforming it to get something a bit nicer for statistical analysis...\n",
    "\n",
    "  - Make a new response time array that is the **log** of the response times.  \n",
    "  - Plot a new histogram!"
   ]
  },
  {
   "cell_type": "code",
   "execution_count": 13,
   "metadata": {},
   "outputs": [
    {
     "data": {
      "image/png": "[encoded data removed]",
      "text/plain": [
       "<Figure size 432x288 with 1 Axes>"
      ]
     },
     "metadata": {
      "needs_background": "light"
     },
     "output_type": "display_data"
    }
   ],
   "source": [
    "log_rt = np.log(resptime)\n",
    "_ = plt.hist(log_rt, bins=60)"
   ]
  },
  {
   "cell_type": "markdown",
   "metadata": {},
   "source": [
    "## Reject Bad Data\n",
    "\n",
    "Now, that's a little nicer!  But wait... there's are some trials that seem to be **outliers** (data points that someone decides aren't representative of the data set): those with **log response times less than 5.7**.  After much consideration and deliberation with my supervisor, I've decided to remove those trials from my whole analysis.\n",
    "\n",
    "Let's do this in a few steps:\n",
    "\n",
    "### Select the the trials that we want to **Keep** (Not the outliers)\n",
    "(Hint: You will be making a boolean array here)"
   ]
  },
  {
   "cell_type": "code",
   "execution_count": 14,
   "metadata": {},
   "outputs": [
    {
     "data": {
      "text/plain": [
       "array([ True,  True,  True, ...,  True,  True,  True])"
      ]
     },
     "execution_count": 14,
     "metadata": {},
     "output_type": "execute_result"
    }
   ],
   "source": [
    "good_RTs = log_rt > 5.7\n",
    "good_RTs"
   ]
  },
  {
   "cell_type": "markdown",
   "metadata": {},
   "source": [
    "### Use Logical Indexing to get the response times from those trials into a new array, effectively removing the bad response times.\n",
    "plot the histogram of the new log response time array to be sure those trials are gone."
   ]
  },
  {
   "cell_type": "code",
   "execution_count": 15,
   "metadata": {},
   "outputs": [
    {
     "data": {
      "image/png": "[encoded data removed]",
      "text/plain": [
       "<Figure size 432x288 with 1 Axes>"
      ]
     },
     "metadata": {
      "needs_background": "light"
     },
     "output_type": "display_data"
    }
   ],
   "source": [
    "log_rt_f = log_rt[good_RTs]\n",
    "_ = plt.hist(log_rt_f, bins=40)"
   ]
  },
  {
   "cell_type": "markdown",
   "metadata": {},
   "source": [
    "### Remove the bad trials from all of your other arrays, too.\n",
    "**Important:** Confirm that all of your arrays have the same length after filtering before moving on, so you can be sure that each index corresponds to the same trial!\n",
    "\n",
    "**Important:** It may be wise not to overwrite your old variable names.  While not a problem in principle, it can lead to issues when you try to re-run the same cell of code."
   ]
  },
  {
   "cell_type": "code",
   "execution_count": 16,
   "metadata": {},
   "outputs": [
    {
     "data": {
      "text/plain": [
       "2766"
      ]
     },
     "execution_count": 16,
     "metadata": {},
     "output_type": "execute_result"
    }
   ],
   "source": [
    "subjf = subject[good_RTs]\n",
    "stimwordf = stimword[good_RTs]\n",
    "trialnumf = trialnum[good_RTs]\n",
    "stimcolorf = stimcolor[good_RTs]\n",
    "respcolorf = respcolor[good_RTs]\n",
    "\n",
    "len(stimcolorf)"
   ]
  },
  {
   "cell_type": "markdown",
   "metadata": {},
   "source": [
    "### From here on, use the Rejected data!"
   ]
  },
  {
   "cell_type": "markdown",
   "metadata": {},
   "source": [
    "## Overall, what was the accuracy of the responses? \n",
    "  - How many trials in total were correct (stimcolor matched respcolor), \n",
    "  - how many were incorrect, and \n",
    "  - what percent accuracy was there, overall?"
   ]
  },
  {
   "cell_type": "code",
   "execution_count": 17,
   "metadata": {},
   "outputs": [
    {
     "data": {
      "text/plain": [
       "2684"
      ]
     },
     "execution_count": 17,
     "metadata": {},
     "output_type": "execute_result"
    }
   ],
   "source": [
    "np.sum(respcolorf == stimcolorf)"
   ]
  },
  {
   "cell_type": "code",
   "execution_count": 18,
   "metadata": {},
   "outputs": [
    {
     "data": {
      "text/plain": [
       "108"
      ]
     },
     "execution_count": 18,
     "metadata": {},
     "output_type": "execute_result"
    }
   ],
   "source": [
    "np.sum(respcolor != stimcolor)"
   ]
  },
  {
   "cell_type": "code",
   "execution_count": 19,
   "metadata": {},
   "outputs": [
    {
     "data": {
      "text/plain": [
       "0.9614698537281484"
      ]
     },
     "execution_count": 19,
     "metadata": {},
     "output_type": "execute_result"
    }
   ],
   "source": [
    "np.mean(respcolor == stimcolor)"
   ]
  },
  {
   "cell_type": "markdown",
   "metadata": {},
   "source": [
    "## Matched vs Unmatched Colors: \n",
    "\n",
    "  - What was the mean log response time for Congruent trials (the stimulus word and color matched each other)?  \n",
    "  - What was the mean log response time for Incongruent trials (when they did not match)?"
   ]
  },
  {
   "cell_type": "code",
   "execution_count": 20,
   "metadata": {},
   "outputs": [
    {
     "data": {
      "text/plain": [
       "7.05608675128054"
      ]
     },
     "execution_count": 20,
     "metadata": {},
     "output_type": "execute_result"
    }
   ],
   "source": [
    "isMatch = stimcolorf == stimwordf\n",
    "matchRT = log_rt_f[isMatch]\n",
    "nonmatchRT = log_rt_f[isMatch == False]\n",
    "\n",
    "np.mean(matchRT)"
   ]
  },
  {
   "cell_type": "code",
   "execution_count": 21,
   "metadata": {},
   "outputs": [
    {
     "data": {
      "text/plain": [
       "7.62702820539089"
      ]
     },
     "execution_count": 21,
     "metadata": {},
     "output_type": "execute_result"
    }
   ],
   "source": [
    "np.mean(nonmatchRT)"
   ]
  },
  {
   "cell_type": "markdown",
   "metadata": {},
   "source": [
    "## Make a Bar Graph of Log Response Time\n",
    "The bar graph should show Mean Log Response Times for the Congruent and Incongruent conditions, with Standard-Deviation Error Bars.  Put text labels on the x access showing which bars go with which condition.\n",
    "\n",
    "For help and an example, take a look at http://matplotlib.org/examples/api/barchart_demo.html"
   ]
  },
  {
   "cell_type": "code",
   "execution_count": 22,
   "metadata": {},
   "outputs": [
    {
     "data": {
      "text/plain": [
       "Text(0,0.5,'Log Reaction Time')"
      ]
     },
     "execution_count": 22,
     "metadata": {},
     "output_type": "execute_result"
    },
    {
     "data": {
      "image/png": "[encoded data removed]",
      "text/plain": [
       "<Figure size 432x288 with 1 Axes>"
      ]
     },
     "metadata": {
      "needs_background": "light"
     },
     "output_type": "display_data"
    }
   ],
   "source": [
    "fig, ax = plt.subplots()\n",
    "\n",
    "ax.bar([0, 1], [np.mean(matchRT), np.mean(nonmatchRT)], \n",
    "       yerr= [np.std(matchRT), np.std(nonmatchRT)])\n",
    "ax.set_xticks([0.4, 1.4])\n",
    "ax.set_xticklabels(['Cong.', 'InCong.'])\n",
    "ax.set_ylabel('Log Reaction Time')"
   ]
  },
  {
   "cell_type": "markdown",
   "metadata": {},
   "source": [
    "# Make a Bar Graph of Response Time\n",
    "\n",
    "The logged data doesn't make a very good impression of just how big an effect this is, sadly.  Let's un-log it by taking the **exponent** (numpy.exp) of the logged response time data, and plot that bar graph to get the data in milliseconds!"
   ]
  },
  {
   "cell_type": "code",
   "execution_count": 23,
   "metadata": {},
   "outputs": [
    {
     "data": {
      "text/plain": [
       "Text(0,0.5,'Reaction Time')"
      ]
     },
     "execution_count": 23,
     "metadata": {},
     "output_type": "execute_result"
    },
    {
     "data": {
      "image/png": "[encoded data removed]",
      "text/plain": [
       "<Figure size 432x288 with 1 Axes>"
      ]
     },
     "metadata": {
      "needs_background": "light"
     },
     "output_type": "display_data"
    }
   ],
   "source": [
    "fig, ax = plt.subplots()\n",
    "\n",
    "ax.bar([0, 1], [np.exp(np.mean(matchRT)), np.exp(np.mean(nonmatchRT))], \n",
    "       yerr= [np.exp(np.std(matchRT)), np.exp(np.std(nonmatchRT))])\n",
    "ax.set_xticks([0.4, 1.4])\n",
    "ax.set_xticklabels(['Cong.', 'InCong.'])\n",
    "ax.set_ylabel('Reaction Time')"
   ]
  },
  {
   "cell_type": "markdown",
   "metadata": {},
   "source": [
    "# Change in Performance over Time\n",
    "\n",
    "In experiments like this, we assume that each trial is independent of each other.  Often, this isn't the case, and not taking that into account can sometimes lead to some wrong conclusions.  Let's see what we can find...\n",
    "\n",
    "### How did reaction time change over the course of each subject's session? \n",
    "\n",
    "Were earlier trials faster or slower than later trials in a session, overall?  Make a scatter plot of the response times over the course of a session!"
   ]
  },
  {
   "cell_type": "code",
   "execution_count": 24,
   "metadata": {},
   "outputs": [
    {
     "data": {
      "text/plain": [
       "Text(0,0.5,'Log Response Time')"
      ]
     },
     "execution_count": 24,
     "metadata": {},
     "output_type": "execute_result"
    },
    {
     "data": {
      "image/png": "[encoded data removed]",
      "text/plain": [
       "<Figure size 432x288 with 1 Axes>"
      ]
     },
     "metadata": {
      "needs_background": "light"
     },
     "output_type": "display_data"
    }
   ],
   "source": [
    "plt.scatter(trialnumf, log_rt_f)\n",
    "plt.xlabel('Trial Number')\n",
    "plt.ylabel('Log Response Time')"
   ]
  },
  {
   "cell_type": "markdown",
   "metadata": {},
   "source": [
    "### What about between each subject?  Do all subjects show this difference in response time between the Congruent and Incogruent conditions, or is this just coming from a few subjects?\n",
    "\n",
    "Make two arrays, one for each condition, which contains the mean log reaction times for each subject for that condition."
   ]
  },
  {
   "cell_type": "code",
   "execution_count": 25,
   "metadata": {},
   "outputs": [],
   "source": [
    "con_mean = {}\n",
    "inc_mean = {}\n",
    "subject_u = set(subject)\n",
    "for subj in subject_u:\n",
    "    subj_rt_con = log_rt_f[(subjf == subj) & (stimwordf == stimcolorf)]\n",
    "    subj_rt_inc = log_rt_f[(subjf == subj) & (stimwordf != stimcolorf)]\n",
    "    con_mean[subj] = np.mean(subj_rt_con)\n",
    "    inc_mean[subj] = np.mean(subj_rt_inc)\n",
    "    \n",
    "con_mean = np.array(list(con_mean.values()))\n",
    "inc_mean = np.array(list(inc_mean.values()))"
   ]
  },
  {
   "cell_type": "code",
   "execution_count": 26,
   "metadata": {},
   "outputs": [
    {
     "data": {
      "text/plain": [
       "array([6.45597264, 6.87165351, 6.89737659, 6.89737659, 6.89737659,\n",
       "       7.41806563, 7.41806563, 6.89737659, 7.41806563, 6.97514285,\n",
       "       6.97514285, 6.97514285, 6.97514285, 7.19351561, 6.97514285,\n",
       "       6.97514285, 6.97514285, 7.46669654, 6.97514285, 6.97514285,\n",
       "       7.11052059, 7.11052059, 7.11052059, 7.11052059, 7.11052059,\n",
       "       7.11052059, 7.11052059, 7.11052059, 7.11052059, 7.11052059,\n",
       "       7.11052059, 6.97116271])"
      ]
     },
     "execution_count": 26,
     "metadata": {},
     "output_type": "execute_result"
    }
   ],
   "source": [
    "con_mean"
   ]
  },
  {
   "cell_type": "markdown",
   "metadata": {},
   "source": [
    "Plot a histogram of the difference in mean log reaction times between conditions for each subject!"
   ]
  },
  {
   "cell_type": "code",
   "execution_count": 27,
   "metadata": {},
   "outputs": [
    {
     "data": {
      "text/plain": [
       "Text(0,0.5,'Freq')"
      ]
     },
     "execution_count": 27,
     "metadata": {},
     "output_type": "execute_result"
    },
    {
     "data": {
      "image/png": "[encoded data removed]",
      "text/plain": [
       "<Figure size 432x288 with 1 Axes>"
      ]
     },
     "metadata": {
      "needs_background": "light"
     },
     "output_type": "display_data"
    }
   ],
   "source": [
    "_ = plt.hist(inc_mean, bins=20)\n",
    "plt.xlabel('Mean Log Subject Response Times')\n",
    "plt.ylabel('Freq')"
   ]
  },
  {
   "cell_type": "markdown",
   "metadata": {},
   "source": [
    "What do you think, should anyone be rejected?  "
   ]
  },
  {
   "cell_type": "markdown",
   "metadata": {},
   "source": [
    "## Participant Response Speed vs. Size of Stroop Effect\n",
    "\n",
    "Make a scatter plot showing the relationship between how quickly subjects responded for congruent and incongruent stimuli!"
   ]
  },
  {
   "cell_type": "code",
   "execution_count": 28,
   "metadata": {},
   "outputs": [
    {
     "data": {
      "text/plain": [
       "Text(0,0.5,'Mean Log RT for Incongruent Stimuli')"
      ]
     },
     "execution_count": 28,
     "metadata": {},
     "output_type": "execute_result"
    },
    {
     "data": {
      "image/png": "[encoded data removed]",
      "text/plain": [
       "<Figure size 432x288 with 1 Axes>"
      ]
     },
     "metadata": {
      "needs_background": "light"
     },
     "output_type": "display_data"
    }
   ],
   "source": [
    "fig, ax = plt.subplots()\n",
    "ax.scatter(con_mean, inc_mean)\n",
    "ax.set_xlabel('Mean Log RT for Congruent Stimuli')\n",
    "ax.set_ylabel('Mean Log RT for Incongruent Stimuli')"
   ]
  },
  {
   "cell_type": "markdown",
   "metadata": {},
   "source": [
    "That's an interesting effect, don't you think? Anyway, I think that's enough analysis.  Let's publish that last figure and move on!"
   ]
  },
  {
   "cell_type": "markdown",
   "metadata": {},
   "source": [
    "## Save Figure to File\n",
    "\n",
    "Save the figure using **fig.savefig()** to your data directory as a png file!  Great job!"
   ]
  },
  {
   "cell_type": "code",
   "execution_count": 29,
   "metadata": {},
   "outputs": [],
   "source": [
    "fig.savefig(path.join(data_dir, 'corrfig.png'))"
   ]
  },
  {
   "cell_type": "code",
   "execution_count": null,
   "metadata": {},
   "outputs": [],
   "source": []
  }
 ],
 "metadata": {
  "kernelspec": {
   "display_name": "Python 3",
   "language": "python",
   "name": "python3"
  },
  "language_info": {
   "codemirror_mode": {
    "name": "ipython",
    "version": 2
   },
   "file_extension": ".py",
   "mimetype": "text/x-python",
   "name": "python",
   "nbconvert_exporter": "python",
   "pygments_lexer": "ipython2",
   "version": "2.7.18"
  }
 },
 "nbformat": 4,
 "nbformat_minor": 1
}
